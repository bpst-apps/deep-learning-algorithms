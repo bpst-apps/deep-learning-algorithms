{
 "cells": [
  {
   "cell_type": "markdown",
   "id": "3518b84d",
   "metadata": {},
   "source": [
    "# CNN - Cat/Dog"
   ]
  },
  {
   "cell_type": "code",
   "execution_count": 1,
   "id": "70161cf7",
   "metadata": {},
   "outputs": [],
   "source": [
    "# importing required packages\n",
    "import tensorflow as tf\n",
    "from keras.preprocessing.image import ImageDataGenerator"
   ]
  },
  {
   "cell_type": "markdown",
   "id": "6ffcf179",
   "metadata": {},
   "source": [
    "### Data Preprocessing"
   ]
  },
  {
   "cell_type": "code",
   "execution_count": 2,
   "id": "ec87c52f",
   "metadata": {},
   "outputs": [
    {
     "name": "stdout",
     "output_type": "stream",
     "text": [
      "Found 8000 images belonging to 2 classes.\n"
     ]
    }
   ],
   "source": [
    "# preprocessing train set\n",
    "train_datagen = ImageDataGenerator(rescale=1./255, shear_range=0.2, zoom_range=0.2, horizontal_flip=True)\n",
    "training_set = train_datagen.flow_from_directory('dataset/training_set', target_size=(64, 64), \n",
    "                                                 batch_size=32, class_mode='binary')"
   ]
  },
  {
   "cell_type": "code",
   "execution_count": 3,
   "id": "6a136fb0",
   "metadata": {},
   "outputs": [
    {
     "name": "stdout",
     "output_type": "stream",
     "text": [
      "Found 2000 images belonging to 2 classes.\n"
     ]
    }
   ],
   "source": [
    "# preprocessing test set\n",
    "test_datagen = ImageDataGenerator(rescale=1./255)\n",
    "test_set = test_datagen.flow_from_directory('dataset/test_set', target_size=(64, 64), batch_size=32, class_mode='binary')"
   ]
  },
  {
   "cell_type": "markdown",
   "id": "8a9fef15",
   "metadata": {},
   "source": [
    "### Build CNN"
   ]
  },
  {
   "cell_type": "markdown",
   "id": "dec0e20f",
   "metadata": {},
   "source": [
    "#### Initialising CNN"
   ]
  },
  {
   "cell_type": "code",
   "execution_count": 4,
   "id": "2e84fe57",
   "metadata": {},
   "outputs": [],
   "source": [
    "cnn = tf.keras.models.Sequential()"
   ]
  },
  {
   "cell_type": "markdown",
   "id": "5a54f030",
   "metadata": {},
   "source": [
    "#### Convolution"
   ]
  },
  {
   "cell_type": "code",
   "execution_count": 5,
   "id": "467104e2",
   "metadata": {},
   "outputs": [],
   "source": [
    "cnn.add(tf.keras.layers.Conv2D(filters=32, kernel_size=3, activation='relu', input_shape=[64, 64, 3]))"
   ]
  },
  {
   "cell_type": "markdown",
   "id": "501b36b8",
   "metadata": {},
   "source": [
    "#### Pooling"
   ]
  },
  {
   "cell_type": "code",
   "execution_count": 6,
   "id": "64154661",
   "metadata": {},
   "outputs": [],
   "source": [
    "cnn.add(tf.keras.layers.MaxPool2D(pool_size=2, strides=2))"
   ]
  },
  {
   "cell_type": "markdown",
   "id": "4be0964f",
   "metadata": {},
   "source": [
    "#### Adding second convolution layer"
   ]
  },
  {
   "cell_type": "code",
   "execution_count": 7,
   "id": "d6cb4e01",
   "metadata": {},
   "outputs": [],
   "source": [
    "cnn.add(tf.keras.layers.Conv2D(filters=32, kernel_size=3, activation='relu'))\n",
    "cnn.add(tf.keras.layers.MaxPool2D(pool_size=2, strides=2))"
   ]
  },
  {
   "cell_type": "markdown",
   "id": "7b269037",
   "metadata": {},
   "source": [
    "#### Flattening"
   ]
  },
  {
   "cell_type": "code",
   "execution_count": 8,
   "id": "b470a5d2",
   "metadata": {},
   "outputs": [],
   "source": [
    "cnn.add(tf.keras.layers.Flatten())"
   ]
  },
  {
   "cell_type": "markdown",
   "id": "ed110cdd",
   "metadata": {},
   "source": [
    "#### Full Connection"
   ]
  },
  {
   "cell_type": "code",
   "execution_count": 9,
   "id": "93528b37",
   "metadata": {},
   "outputs": [],
   "source": [
    "cnn.add(tf.keras.layers.Dense(units=128, activation='relu'))"
   ]
  },
  {
   "cell_type": "markdown",
   "id": "65c7060e",
   "metadata": {},
   "source": [
    "#### Output Layer"
   ]
  },
  {
   "cell_type": "code",
   "execution_count": 10,
   "id": "0aaf44c4",
   "metadata": {},
   "outputs": [],
   "source": [
    "cnn.add(tf.keras.layers.Dense(units=1, activation='sigmoid'))"
   ]
  },
  {
   "cell_type": "markdown",
   "id": "d82c0898",
   "metadata": {},
   "source": [
    "### Training CNN"
   ]
  },
  {
   "cell_type": "markdown",
   "id": "ee55b2c3",
   "metadata": {},
   "source": [
    "#### Compiling CNN"
   ]
  },
  {
   "cell_type": "code",
   "execution_count": 11,
   "id": "d592a969",
   "metadata": {},
   "outputs": [],
   "source": [
    "cnn.compile(optimizer='adam', loss='binary_crossentropy', metrics=['accuracy'])"
   ]
  },
  {
   "cell_type": "code",
   "execution_count": 12,
   "id": "a91f26ff",
   "metadata": {},
   "outputs": [
    {
     "name": "stdout",
     "output_type": "stream",
     "text": [
      "Model: \"sequential\"\n",
      "_________________________________________________________________\n",
      " Layer (type)                Output Shape              Param #   \n",
      "=================================================================\n",
      " conv2d (Conv2D)             (None, 62, 62, 32)        896       \n",
      "                                                                 \n",
      " max_pooling2d (MaxPooling2D  (None, 31, 31, 32)       0         \n",
      " )                                                               \n",
      "                                                                 \n",
      " conv2d_1 (Conv2D)           (None, 29, 29, 32)        9248      \n",
      "                                                                 \n",
      " max_pooling2d_1 (MaxPooling  (None, 14, 14, 32)       0         \n",
      " 2D)                                                             \n",
      "                                                                 \n",
      " flatten (Flatten)           (None, 6272)              0         \n",
      "                                                                 \n",
      " dense (Dense)               (None, 128)               802944    \n",
      "                                                                 \n",
      " dense_1 (Dense)             (None, 1)                 129       \n",
      "                                                                 \n",
      "=================================================================\n",
      "Total params: 813,217\n",
      "Trainable params: 813,217\n",
      "Non-trainable params: 0\n",
      "_________________________________________________________________\n"
     ]
    }
   ],
   "source": [
    "cnn.summary()"
   ]
  },
  {
   "cell_type": "markdown",
   "id": "7c40521e",
   "metadata": {},
   "source": [
    "#### Traning CNN"
   ]
  },
  {
   "cell_type": "code",
   "execution_count": 13,
   "id": "069b0813",
   "metadata": {},
   "outputs": [
    {
     "name": "stdout",
     "output_type": "stream",
     "text": [
      "Epoch 1/30\n",
      "250/250 [==============================] - 29s 107ms/step - loss: 0.6811 - accuracy: 0.5591 - val_loss: 0.6791 - val_accuracy: 0.5830\n",
      "Epoch 2/30\n",
      "250/250 [==============================] - 26s 104ms/step - loss: 0.6137 - accuracy: 0.6650 - val_loss: 0.5815 - val_accuracy: 0.6980\n",
      "Epoch 3/30\n",
      "250/250 [==============================] - 26s 103ms/step - loss: 0.5806 - accuracy: 0.6864 - val_loss: 0.5462 - val_accuracy: 0.7275\n",
      "Epoch 4/30\n",
      "250/250 [==============================] - 26s 103ms/step - loss: 0.5422 - accuracy: 0.7260 - val_loss: 0.5497 - val_accuracy: 0.7340\n",
      "Epoch 5/30\n",
      "250/250 [==============================] - 26s 104ms/step - loss: 0.5190 - accuracy: 0.7436 - val_loss: 0.5182 - val_accuracy: 0.7515\n",
      "Epoch 6/30\n",
      "250/250 [==============================] - 26s 103ms/step - loss: 0.5060 - accuracy: 0.7490 - val_loss: 0.5258 - val_accuracy: 0.7405\n",
      "Epoch 7/30\n",
      "250/250 [==============================] - 26s 104ms/step - loss: 0.4897 - accuracy: 0.7623 - val_loss: 0.4949 - val_accuracy: 0.7660\n",
      "Epoch 8/30\n",
      "250/250 [==============================] - 26s 104ms/step - loss: 0.4708 - accuracy: 0.7707 - val_loss: 0.6061 - val_accuracy: 0.7255\n",
      "Epoch 9/30\n",
      "250/250 [==============================] - 26s 103ms/step - loss: 0.4613 - accuracy: 0.7805 - val_loss: 0.4642 - val_accuracy: 0.7875\n",
      "Epoch 10/30\n",
      "250/250 [==============================] - 26s 103ms/step - loss: 0.4511 - accuracy: 0.7818 - val_loss: 0.5020 - val_accuracy: 0.7635\n",
      "Epoch 11/30\n",
      "250/250 [==============================] - 26s 103ms/step - loss: 0.4399 - accuracy: 0.7937 - val_loss: 0.5057 - val_accuracy: 0.7615\n",
      "Epoch 12/30\n",
      "250/250 [==============================] - 25s 101ms/step - loss: 0.4266 - accuracy: 0.8043 - val_loss: 0.4961 - val_accuracy: 0.7775\n",
      "Epoch 13/30\n",
      "250/250 [==============================] - 26s 104ms/step - loss: 0.4222 - accuracy: 0.8011 - val_loss: 0.4917 - val_accuracy: 0.7695\n",
      "Epoch 14/30\n",
      "250/250 [==============================] - 26s 103ms/step - loss: 0.4104 - accuracy: 0.8127 - val_loss: 0.4371 - val_accuracy: 0.8070\n",
      "Epoch 15/30\n",
      "250/250 [==============================] - 26s 102ms/step - loss: 0.4053 - accuracy: 0.8136 - val_loss: 0.4637 - val_accuracy: 0.8040\n",
      "Epoch 16/30\n",
      "250/250 [==============================] - 26s 103ms/step - loss: 0.3844 - accuracy: 0.8253 - val_loss: 0.4559 - val_accuracy: 0.7920\n",
      "Epoch 17/30\n",
      "250/250 [==============================] - 25s 102ms/step - loss: 0.3788 - accuracy: 0.8314 - val_loss: 0.4702 - val_accuracy: 0.7970\n",
      "Epoch 18/30\n",
      "250/250 [==============================] - 26s 102ms/step - loss: 0.3758 - accuracy: 0.8328 - val_loss: 0.4525 - val_accuracy: 0.7900\n",
      "Epoch 19/30\n",
      "250/250 [==============================] - 26s 102ms/step - loss: 0.3609 - accuracy: 0.8385 - val_loss: 0.4380 - val_accuracy: 0.8110\n",
      "Epoch 20/30\n",
      "250/250 [==============================] - 26s 104ms/step - loss: 0.3538 - accuracy: 0.8426 - val_loss: 0.4356 - val_accuracy: 0.8100\n",
      "Epoch 21/30\n",
      "250/250 [==============================] - 26s 105ms/step - loss: 0.3530 - accuracy: 0.8407 - val_loss: 0.4842 - val_accuracy: 0.7885\n",
      "Epoch 22/30\n",
      "250/250 [==============================] - 26s 102ms/step - loss: 0.3454 - accuracy: 0.8403 - val_loss: 0.4517 - val_accuracy: 0.8080\n",
      "Epoch 23/30\n",
      "250/250 [==============================] - 26s 102ms/step - loss: 0.3428 - accuracy: 0.8497 - val_loss: 0.4914 - val_accuracy: 0.7740\n",
      "Epoch 24/30\n",
      "250/250 [==============================] - 26s 103ms/step - loss: 0.3281 - accuracy: 0.8560 - val_loss: 0.4977 - val_accuracy: 0.7900\n",
      "Epoch 25/30\n",
      "250/250 [==============================] - 26s 104ms/step - loss: 0.3238 - accuracy: 0.8577 - val_loss: 0.4514 - val_accuracy: 0.8045\n",
      "Epoch 26/30\n",
      "250/250 [==============================] - 26s 103ms/step - loss: 0.3274 - accuracy: 0.8600 - val_loss: 0.4539 - val_accuracy: 0.8085\n",
      "Epoch 27/30\n",
      "250/250 [==============================] - 26s 103ms/step - loss: 0.3141 - accuracy: 0.8600 - val_loss: 0.4427 - val_accuracy: 0.8185\n",
      "Epoch 28/30\n",
      "250/250 [==============================] - 26s 103ms/step - loss: 0.3011 - accuracy: 0.8702 - val_loss: 0.4668 - val_accuracy: 0.8000\n",
      "Epoch 29/30\n",
      "250/250 [==============================] - 26s 102ms/step - loss: 0.3044 - accuracy: 0.8686 - val_loss: 0.4708 - val_accuracy: 0.8015\n",
      "Epoch 30/30\n",
      "250/250 [==============================] - 26s 102ms/step - loss: 0.2947 - accuracy: 0.8730 - val_loss: 0.4873 - val_accuracy: 0.8135\n"
     ]
    },
    {
     "data": {
      "text/plain": [
       "<keras.callbacks.History at 0x2308a2817c0>"
      ]
     },
     "execution_count": 13,
     "metadata": {},
     "output_type": "execute_result"
    }
   ],
   "source": [
    "cnn.fit(x=training_set, validation_data=test_set, epochs=30)"
   ]
  },
  {
   "cell_type": "markdown",
   "id": "fab2d38a",
   "metadata": {},
   "source": [
    "### Making Single Prediction"
   ]
  },
  {
   "cell_type": "code",
   "execution_count": 14,
   "id": "9cd8e6fe",
   "metadata": {},
   "outputs": [],
   "source": [
    "import numpy as np\n",
    "from keras.preprocessing import image"
   ]
  },
  {
   "cell_type": "code",
   "execution_count": 15,
   "id": "192169aa",
   "metadata": {},
   "outputs": [],
   "source": [
    "test_image = image.load_img('dataset/single_prediction/cat_or_dog_1.jpg', target_size=(64, 64))\n",
    "test_image = image.img_to_array(test_image)\n",
    "test_image = np.expand_dims(test_image, axis=0)"
   ]
  },
  {
   "cell_type": "code",
   "execution_count": 16,
   "id": "f25eef6e",
   "metadata": {},
   "outputs": [],
   "source": [
    "result = cnn.predict(test_image)"
   ]
  },
  {
   "cell_type": "code",
   "execution_count": 17,
   "id": "5df18e01",
   "metadata": {},
   "outputs": [
    {
     "data": {
      "text/plain": [
       "{'cats': 0, 'dogs': 1}"
      ]
     },
     "execution_count": 17,
     "metadata": {},
     "output_type": "execute_result"
    }
   ],
   "source": [
    "training_set.class_indices"
   ]
  },
  {
   "cell_type": "code",
   "execution_count": 18,
   "id": "abbe0bfc",
   "metadata": {},
   "outputs": [],
   "source": [
    "def get_prediction(result):\n",
    "    if result[0][0] == 1:\n",
    "        prediction = 'dog'\n",
    "    else:\n",
    "        prediction = 'cat'\n",
    "    return prediction"
   ]
  },
  {
   "cell_type": "code",
   "execution_count": 19,
   "id": "28b43e4d",
   "metadata": {},
   "outputs": [
    {
     "name": "stdout",
     "output_type": "stream",
     "text": [
      "dog\n"
     ]
    }
   ],
   "source": [
    "print(get_prediction(result))"
   ]
  },
  {
   "cell_type": "code",
   "execution_count": 20,
   "id": "41bbac1e",
   "metadata": {},
   "outputs": [
    {
     "data": {
      "image/png": "[encoded data removed]",
      "text/plain": [
       "<PIL.Image.Image image mode=RGB size=64x64>"
      ]
     },
     "execution_count": 20,
     "metadata": {},
     "output_type": "execute_result"
    }
   ],
   "source": [
    "# view image\n",
    "image.load_img('dataset/single_prediction/cat_or_dog_1.jpg', target_size=(64, 64)) "
   ]
  },
  {
   "cell_type": "code",
   "execution_count": 21,
   "id": "a53047ec",
   "metadata": {},
   "outputs": [],
   "source": [
    "test_image = image.load_img('dataset/single_prediction/cat_or_dog_2.jpg', target_size=(64, 64))\n",
    "test_image = image.img_to_array(test_image)\n",
    "test_image = np.expand_dims(test_image, axis=0)\n",
    "result = cnn.predict(test_image)"
   ]
  },
  {
   "cell_type": "code",
   "execution_count": 22,
   "id": "41f07980",
   "metadata": {},
   "outputs": [
    {
     "name": "stdout",
     "output_type": "stream",
     "text": [
      "cat\n"
     ]
    }
   ],
   "source": [
    "print(get_prediction(result))"
   ]
  },
  {
   "cell_type": "code",
   "execution_count": 23,
   "id": "0c35920d",
   "metadata": {},
   "outputs": [
    {
     "data": {
      "text/plain": [
       "array([[0.]], dtype=float32)"
      ]
     },
     "execution_count": 23,
     "metadata": {},
     "output_type": "execute_result"
    }
   ],
   "source": [
    "result"
   ]
  },
  {
   "cell_type": "code",
   "execution_count": 24,
   "id": "e77e004a",
   "metadata": {},
   "outputs": [
    {
     "data": {
      "image/png": "[encoded data removed]",
      "text/plain": [
       "<PIL.Image.Image image mode=RGB size=64x64>"
      ]
     },
     "execution_count": 24,
     "metadata": {},
     "output_type": "execute_result"
    }
   ],
   "source": [
    "image.load_img('dataset/single_prediction/cat_or_dog_2.jpg', target_size=(64, 64))"
   ]
  },
  {
   "cell_type": "code",
   "execution_count": null,
   "id": "898c8a42",
   "metadata": {},
   "outputs": [],
   "source": []
  }
 ],
 "metadata": {
  "kernelspec": {
   "display_name": "Python 3 (ipykernel)",
   "language": "python",
   "name": "python3"
  },
  "language_info": {
   "codemirror_mode": {
    "name": "ipython",
    "version": 3
   },
   "file_extension": ".py",
   "mimetype": "text/x-python",
   "name": "python",
   "nbconvert_exporter": "python",
   "pygments_lexer": "ipython3",
   "version": "3.9.12"
  }
 },
 "nbformat": 4,
 "nbformat_minor": 5
}
